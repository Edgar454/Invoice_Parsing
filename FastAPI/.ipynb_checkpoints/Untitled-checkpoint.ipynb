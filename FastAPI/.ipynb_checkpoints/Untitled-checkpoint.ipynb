{
 "cells": [
  {
   "cell_type": "code",
   "execution_count": 1,
   "id": "ae001591",
   "metadata": {},
   "outputs": [],
   "source": [
    "import uvicorn\n",
    "from fastapi import FastAPI\n",
    "import numpy as np\n",
    "import io"
   ]
  },
  {
   "cell_type": "code",
   "execution_count": 2,
   "id": "b7a87f92",
   "metadata": {},
   "outputs": [],
   "source": [
    "from transformers import DonutProcessor, VisionEncoderDecoderModel\n",
    "import torch\n",
    "\n"
   ]
  },
  {
   "cell_type": "code",
   "execution_count": 4,
   "id": "3a9f0487",
   "metadata": {},
   "outputs": [
    {
     "name": "stderr",
     "output_type": "stream",
     "text": [
      "Special tokens have been added in the vocabulary, make sure the associated word embeddings are fine-tuned or trained.\n"
     ]
    },
    {
     "data": {
      "text/plain": [
       "VisionEncoderDecoderModel(\n",
       "  (encoder): DonutSwinModel(\n",
       "    (embeddings): DonutSwinEmbeddings(\n",
       "      (patch_embeddings): DonutSwinPatchEmbeddings(\n",
       "        (projection): Conv2d(3, 128, kernel_size=(4, 4), stride=(4, 4))\n",
       "      )\n",
       "      (norm): LayerNorm((128,), eps=1e-05, elementwise_affine=True)\n",
       "      (dropout): Dropout(p=0.0, inplace=False)\n",
       "    )\n",
       "    (encoder): DonutSwinEncoder(\n",
       "      (layers): ModuleList(\n",
       "        (0): DonutSwinStage(\n",
       "          (blocks): ModuleList(\n",
       "            (0-1): 2 x DonutSwinLayer(\n",
       "              (layernorm_before): LayerNorm((128,), eps=1e-05, elementwise_affine=True)\n",
       "              (attention): DonutSwinAttention(\n",
       "                (self): DonutSwinSelfAttention(\n",
       "                  (query): Linear(in_features=128, out_features=128, bias=True)\n",
       "                  (key): Linear(in_features=128, out_features=128, bias=True)\n",
       "                  (value): Linear(in_features=128, out_features=128, bias=True)\n",
       "                  (dropout): Dropout(p=0.0, inplace=False)\n",
       "                )\n",
       "                (output): DonutSwinSelfOutput(\n",
       "                  (dense): Linear(in_features=128, out_features=128, bias=True)\n",
       "                  (dropout): Dropout(p=0.0, inplace=False)\n",
       "                )\n",
       "              )\n",
       "              (drop_path): DonutSwinDropPath(p=0.1)\n",
       "              (layernorm_after): LayerNorm((128,), eps=1e-05, elementwise_affine=True)\n",
       "              (intermediate): DonutSwinIntermediate(\n",
       "                (dense): Linear(in_features=128, out_features=512, bias=True)\n",
       "                (intermediate_act_fn): GELUActivation()\n",
       "              )\n",
       "              (output): DonutSwinOutput(\n",
       "                (dense): Linear(in_features=512, out_features=128, bias=True)\n",
       "                (dropout): Dropout(p=0.0, inplace=False)\n",
       "              )\n",
       "            )\n",
       "          )\n",
       "          (downsample): DonutSwinPatchMerging(\n",
       "            (reduction): Linear(in_features=512, out_features=256, bias=False)\n",
       "            (norm): LayerNorm((512,), eps=1e-05, elementwise_affine=True)\n",
       "          )\n",
       "        )\n",
       "        (1): DonutSwinStage(\n",
       "          (blocks): ModuleList(\n",
       "            (0-1): 2 x DonutSwinLayer(\n",
       "              (layernorm_before): LayerNorm((256,), eps=1e-05, elementwise_affine=True)\n",
       "              (attention): DonutSwinAttention(\n",
       "                (self): DonutSwinSelfAttention(\n",
       "                  (query): Linear(in_features=256, out_features=256, bias=True)\n",
       "                  (key): Linear(in_features=256, out_features=256, bias=True)\n",
       "                  (value): Linear(in_features=256, out_features=256, bias=True)\n",
       "                  (dropout): Dropout(p=0.0, inplace=False)\n",
       "                )\n",
       "                (output): DonutSwinSelfOutput(\n",
       "                  (dense): Linear(in_features=256, out_features=256, bias=True)\n",
       "                  (dropout): Dropout(p=0.0, inplace=False)\n",
       "                )\n",
       "              )\n",
       "              (drop_path): DonutSwinDropPath(p=0.1)\n",
       "              (layernorm_after): LayerNorm((256,), eps=1e-05, elementwise_affine=True)\n",
       "              (intermediate): DonutSwinIntermediate(\n",
       "                (dense): Linear(in_features=256, out_features=1024, bias=True)\n",
       "                (intermediate_act_fn): GELUActivation()\n",
       "              )\n",
       "              (output): DonutSwinOutput(\n",
       "                (dense): Linear(in_features=1024, out_features=256, bias=True)\n",
       "                (dropout): Dropout(p=0.0, inplace=False)\n",
       "              )\n",
       "            )\n",
       "          )\n",
       "          (downsample): DonutSwinPatchMerging(\n",
       "            (reduction): Linear(in_features=1024, out_features=512, bias=False)\n",
       "            (norm): LayerNorm((1024,), eps=1e-05, elementwise_affine=True)\n",
       "          )\n",
       "        )\n",
       "        (2): DonutSwinStage(\n",
       "          (blocks): ModuleList(\n",
       "            (0-13): 14 x DonutSwinLayer(\n",
       "              (layernorm_before): LayerNorm((512,), eps=1e-05, elementwise_affine=True)\n",
       "              (attention): DonutSwinAttention(\n",
       "                (self): DonutSwinSelfAttention(\n",
       "                  (query): Linear(in_features=512, out_features=512, bias=True)\n",
       "                  (key): Linear(in_features=512, out_features=512, bias=True)\n",
       "                  (value): Linear(in_features=512, out_features=512, bias=True)\n",
       "                  (dropout): Dropout(p=0.0, inplace=False)\n",
       "                )\n",
       "                (output): DonutSwinSelfOutput(\n",
       "                  (dense): Linear(in_features=512, out_features=512, bias=True)\n",
       "                  (dropout): Dropout(p=0.0, inplace=False)\n",
       "                )\n",
       "              )\n",
       "              (drop_path): DonutSwinDropPath(p=0.1)\n",
       "              (layernorm_after): LayerNorm((512,), eps=1e-05, elementwise_affine=True)\n",
       "              (intermediate): DonutSwinIntermediate(\n",
       "                (dense): Linear(in_features=512, out_features=2048, bias=True)\n",
       "                (intermediate_act_fn): GELUActivation()\n",
       "              )\n",
       "              (output): DonutSwinOutput(\n",
       "                (dense): Linear(in_features=2048, out_features=512, bias=True)\n",
       "                (dropout): Dropout(p=0.0, inplace=False)\n",
       "              )\n",
       "            )\n",
       "          )\n",
       "          (downsample): DonutSwinPatchMerging(\n",
       "            (reduction): Linear(in_features=2048, out_features=1024, bias=False)\n",
       "            (norm): LayerNorm((2048,), eps=1e-05, elementwise_affine=True)\n",
       "          )\n",
       "        )\n",
       "        (3): DonutSwinStage(\n",
       "          (blocks): ModuleList(\n",
       "            (0-1): 2 x DonutSwinLayer(\n",
       "              (layernorm_before): LayerNorm((1024,), eps=1e-05, elementwise_affine=True)\n",
       "              (attention): DonutSwinAttention(\n",
       "                (self): DonutSwinSelfAttention(\n",
       "                  (query): Linear(in_features=1024, out_features=1024, bias=True)\n",
       "                  (key): Linear(in_features=1024, out_features=1024, bias=True)\n",
       "                  (value): Linear(in_features=1024, out_features=1024, bias=True)\n",
       "                  (dropout): Dropout(p=0.0, inplace=False)\n",
       "                )\n",
       "                (output): DonutSwinSelfOutput(\n",
       "                  (dense): Linear(in_features=1024, out_features=1024, bias=True)\n",
       "                  (dropout): Dropout(p=0.0, inplace=False)\n",
       "                )\n",
       "              )\n",
       "              (drop_path): DonutSwinDropPath(p=0.1)\n",
       "              (layernorm_after): LayerNorm((1024,), eps=1e-05, elementwise_affine=True)\n",
       "              (intermediate): DonutSwinIntermediate(\n",
       "                (dense): Linear(in_features=1024, out_features=4096, bias=True)\n",
       "                (intermediate_act_fn): GELUActivation()\n",
       "              )\n",
       "              (output): DonutSwinOutput(\n",
       "                (dense): Linear(in_features=4096, out_features=1024, bias=True)\n",
       "                (dropout): Dropout(p=0.0, inplace=False)\n",
       "              )\n",
       "            )\n",
       "          )\n",
       "        )\n",
       "      )\n",
       "    )\n",
       "    (pooler): AdaptiveAvgPool1d(output_size=1)\n",
       "  )\n",
       "  (decoder): MBartForCausalLM(\n",
       "    (model): MBartDecoderWrapper(\n",
       "      (decoder): MBartDecoder(\n",
       "        (embed_tokens): MBartScaledWordEmbedding(57536, 1024, padding_idx=1)\n",
       "        (embed_positions): MBartLearnedPositionalEmbedding(1538, 1024)\n",
       "        (layers): ModuleList(\n",
       "          (0-3): 4 x MBartDecoderLayer(\n",
       "            (self_attn): MBartAttention(\n",
       "              (k_proj): Linear(in_features=1024, out_features=1024, bias=True)\n",
       "              (v_proj): Linear(in_features=1024, out_features=1024, bias=True)\n",
       "              (q_proj): Linear(in_features=1024, out_features=1024, bias=True)\n",
       "              (out_proj): Linear(in_features=1024, out_features=1024, bias=True)\n",
       "            )\n",
       "            (activation_fn): GELUActivation()\n",
       "            (self_attn_layer_norm): LayerNorm((1024,), eps=1e-05, elementwise_affine=True)\n",
       "            (encoder_attn): MBartAttention(\n",
       "              (k_proj): Linear(in_features=1024, out_features=1024, bias=True)\n",
       "              (v_proj): Linear(in_features=1024, out_features=1024, bias=True)\n",
       "              (q_proj): Linear(in_features=1024, out_features=1024, bias=True)\n",
       "              (out_proj): Linear(in_features=1024, out_features=1024, bias=True)\n",
       "            )\n",
       "            (encoder_attn_layer_norm): LayerNorm((1024,), eps=1e-05, elementwise_affine=True)\n",
       "            (fc1): Linear(in_features=1024, out_features=4096, bias=True)\n",
       "            (fc2): Linear(in_features=4096, out_features=1024, bias=True)\n",
       "            (final_layer_norm): LayerNorm((1024,), eps=1e-05, elementwise_affine=True)\n",
       "          )\n",
       "        )\n",
       "        (layernorm_embedding): LayerNorm((1024,), eps=1e-05, elementwise_affine=True)\n",
       "        (layer_norm): LayerNorm((1024,), eps=1e-05, elementwise_affine=True)\n",
       "      )\n",
       "    )\n",
       "    (lm_head): Linear(in_features=1024, out_features=57536, bias=False)\n",
       "  )\n",
       ")"
      ]
     },
     "execution_count": 4,
     "metadata": {},
     "output_type": "execute_result"
    }
   ],
   "source": [
    "model = VisionEncoderDecoderModel.from_pretrained(\"Edgar404/donut-shivi-cheques_KD_320\" ,torch_dtype = torch.float16 )\n",
    "processor = DonutProcessor.from_pretrained(\"Edgar404/donut-shivi-cheques_KD_320\")\n",
    "model.eval()"
   ]
  },
  {
   "cell_type": "code",
   "execution_count": 5,
   "id": "260a0ac7",
   "metadata": {},
   "outputs": [],
   "source": [
    "from PIL import Image\n",
    "from fastapi import FastAPI, UploadFile, File, HTTPException"
   ]
  },
  {
   "cell_type": "code",
   "execution_count": 4,
   "id": "3556bcb7",
   "metadata": {},
   "outputs": [],
   "source": [
    "img = Image.open('shivi.jpg')"
   ]
  },
  {
   "cell_type": "code",
   "execution_count": 8,
   "id": "c2cbf6bf",
   "metadata": {},
   "outputs": [
    {
     "name": "stdout",
     "output_type": "stream",
     "text": [
      "1min 21s ± 1.74 s per loop (mean ± std. dev. of 7 runs, 1 loop each)\n"
     ]
    }
   ],
   "source": [
    "results = process_image(img ,model , processor , torch.float16)"
   ]
  },
  {
   "cell_type": "code",
   "execution_count": 9,
   "id": "d4de790d",
   "metadata": {},
   "outputs": [
    {
     "data": {
      "text/plain": [
       "{'payee_name': 'Thérèse Fortier',\n",
       " 'cheque_date': '06/05/22',\n",
       " 'bank_name': 'AXIS BANK',\n",
       " 'amt_in_words': 'Four Thousand Nine Hundred and Seventy One',\n",
       " 'amt_in_figures': '4971'}"
      ]
     },
     "execution_count": 9,
     "metadata": {},
     "output_type": "execute_result"
    }
   ],
   "source": [
    "results"
   ]
  },
  {
   "cell_type": "code",
   "execution_count": 6,
   "id": "88079f25",
   "metadata": {},
   "outputs": [],
   "source": [
    "# building the server\n",
    "app = FastAPI(title = 'Invoice parser')"
   ]
  },
  {
   "cell_type": "code",
   "execution_count": 7,
   "id": "653c87a4",
   "metadata": {},
   "outputs": [],
   "source": [
    "@app.get('/')\n",
    "def read_root():\n",
    "    return {\"hello\":\"world\"}"
   ]
  },
  {
   "cell_type": "code",
   "execution_count": 8,
   "id": "d10a55ac",
   "metadata": {},
   "outputs": [
    {
     "name": "stderr",
     "output_type": "stream",
     "text": [
      "C:\\Users\\GLC\\AppData\\Local\\Temp\\ipykernel_16684\\2606298389.py:1: DeprecationWarning: \n",
      "        on_event is deprecated, use lifespan event handlers instead.\n",
      "\n",
      "        Read more about it in the\n",
      "        [FastAPI docs for Lifespan Events](https://fastapi.tiangolo.com/advanced/events/).\n",
      "        \n",
      "  @app.on_event('startup')\n"
     ]
    }
   ],
   "source": [
    "@app.on_event('startup')\n",
    "async def load_model():\n",
    "    model = VisionEncoderDecoderModel.from_pretrained(\"Edgar404/donut-shivi-cheques_KD_320\" ,torch_dtype = torch.float16 )\n",
    "    processor = DonutProcessor.from_pretrained(\"Edgar404/donut-shivi-cheques_KD_320\")\n",
    "    model.eval()\n",
    "    "
   ]
  },
  {
   "cell_type": "code",
   "execution_count": 9,
   "id": "5874c2cc",
   "metadata": {},
   "outputs": [],
   "source": [
    "@app.post('/predict')\n",
    "async def get_prediction(file: UploadFile = File(...)):\n",
    "    \n",
    "    # 1. VALIDATE INPUT FILE\n",
    "    filename = file.filename\n",
    "    fileExtension = filename.split(\".\")[-1] in (\"jpg\", \"jpeg\", \"png\")\n",
    "    if not fileExtension:\n",
    "        raise HTTPException(status_code=415, detail=\"Unsupported file provided.\")\n",
    "        \n",
    "    # 2. TRANSFORM RAW IMAGE INTO PIL image\n",
    "    \n",
    "    # Read image as a stream of bytes\n",
    "    image_stream = io.BytesIO(file.file.read())\n",
    "    \n",
    "    # Start the stream from the beginning (position zero)\n",
    "    image_stream.seek(0)\n",
    "    \n",
    "    # Write the stream of bytes into a numpy array\n",
    "    file_bytes = np.asarray(bytearray(image_stream.read()), dtype=np.uint8)\n",
    "    \n",
    "    #Decode the numpy array as a PIL  image\n",
    "    image = Image.fromarray(file_bytes)\n",
    "    image = image.convert('RGB')\n",
    "    \n",
    "    # make the prediction\n",
    "    prediction = process_image(image ,model , processor , torch.float16)\n",
    "    \n",
    "    return {\"prediction\":prediction}\n",
    "    "
   ]
  },
  {
   "cell_type": "code",
   "execution_count": 10,
   "id": "a69a8a51",
   "metadata": {},
   "outputs": [],
   "source": [
    "import os\n",
    "import nest_asyncio"
   ]
  },
  {
   "cell_type": "code",
   "execution_count": null,
   "id": "74cc3ebf",
   "metadata": {},
   "outputs": [
    {
     "name": "stderr",
     "output_type": "stream",
     "text": [
      "INFO:     Started server process [16684]\n",
      "INFO:     Waiting for application startup.\n",
      "Special tokens have been added in the vocabulary, make sure the associated word embeddings are fine-tuned or trained.\n",
      "INFO:     Application startup complete.\n",
      "INFO:     Uvicorn running on http://127.0.0.1:8000 (Press CTRL+C to quit)\n"
     ]
    },
    {
     "name": "stdout",
     "output_type": "stream",
     "text": [
      "INFO:     127.0.0.1:65445 - \"GET / HTTP/1.1\" 200 OK\n",
      "INFO:     127.0.0.1:65450 - \"GET /docs HTTP/1.1\" 200 OK\n",
      "INFO:     127.0.0.1:65450 - \"GET /openapi.json HTTP/1.1\" 200 OK\n",
      "INFO:     127.0.0.1:65463 - \"POST /predict HTTP/1.1\" 500 Internal Server Error\n"
     ]
    },
    {
     "name": "stderr",
     "output_type": "stream",
     "text": [
      "ERROR:    Exception in ASGI application\n",
      "Traceback (most recent call last):\n",
      "  File \"C:\\Users\\GLC\\anaconda3\\envs\\MSD\\lib\\site-packages\\uvicorn\\protocols\\http\\h11_impl.py\", line 408, in run_asgi\n",
      "    result = await app(  # type: ignore[func-returns-value]\n",
      "  File \"C:\\Users\\GLC\\anaconda3\\envs\\MSD\\lib\\site-packages\\uvicorn\\middleware\\proxy_headers.py\", line 84, in __call__\n",
      "    return await self.app(scope, receive, send)\n",
      "  File \"C:\\Users\\GLC\\anaconda3\\envs\\MSD\\lib\\site-packages\\fastapi\\applications.py\", line 1106, in __call__\n",
      "    await super().__call__(scope, receive, send)\n",
      "  File \"C:\\Users\\GLC\\anaconda3\\envs\\MSD\\lib\\site-packages\\starlette\\applications.py\", line 122, in __call__\n",
      "    await self.middleware_stack(scope, receive, send)\n",
      "  File \"C:\\Users\\GLC\\anaconda3\\envs\\MSD\\lib\\site-packages\\starlette\\middleware\\errors.py\", line 184, in __call__\n",
      "    raise exc\n",
      "  File \"C:\\Users\\GLC\\anaconda3\\envs\\MSD\\lib\\site-packages\\starlette\\middleware\\errors.py\", line 162, in __call__\n",
      "    await self.app(scope, receive, _send)\n",
      "  File \"C:\\Users\\GLC\\anaconda3\\envs\\MSD\\lib\\site-packages\\starlette\\middleware\\exceptions.py\", line 79, in __call__\n",
      "    raise exc\n",
      "  File \"C:\\Users\\GLC\\anaconda3\\envs\\MSD\\lib\\site-packages\\starlette\\middleware\\exceptions.py\", line 68, in __call__\n",
      "    await self.app(scope, receive, sender)\n",
      "  File \"C:\\Users\\GLC\\anaconda3\\envs\\MSD\\lib\\site-packages\\fastapi\\middleware\\asyncexitstack.py\", line 20, in __call__\n",
      "    raise e\n",
      "  File \"C:\\Users\\GLC\\anaconda3\\envs\\MSD\\lib\\site-packages\\fastapi\\middleware\\asyncexitstack.py\", line 17, in __call__\n",
      "    await self.app(scope, receive, send)\n",
      "  File \"C:\\Users\\GLC\\anaconda3\\envs\\MSD\\lib\\site-packages\\starlette\\routing.py\", line 718, in __call__\n",
      "    await route.handle(scope, receive, send)\n",
      "  File \"C:\\Users\\GLC\\anaconda3\\envs\\MSD\\lib\\site-packages\\starlette\\routing.py\", line 276, in handle\n",
      "    await self.app(scope, receive, send)\n",
      "  File \"C:\\Users\\GLC\\anaconda3\\envs\\MSD\\lib\\site-packages\\starlette\\routing.py\", line 66, in app\n",
      "    response = await func(request)\n",
      "  File \"C:\\Users\\GLC\\anaconda3\\envs\\MSD\\lib\\site-packages\\fastapi\\routing.py\", line 274, in app\n",
      "    raw_response = await run_endpoint_function(\n",
      "  File \"C:\\Users\\GLC\\anaconda3\\envs\\MSD\\lib\\site-packages\\fastapi\\routing.py\", line 191, in run_endpoint_function\n",
      "    return await dependant.call(**values)\n",
      "  File \"C:\\Users\\GLC\\AppData\\Local\\Temp\\ipykernel_16684\\3429556986.py\", line 22, in get_prediction\n",
      "    image = Image.fromarray(file_bytes , mode = 'RGB')\n",
      "  File \"C:\\Users\\GLC\\anaconda3\\envs\\MSD\\lib\\site-packages\\PIL\\Image.py\", line 3304, in fromarray\n",
      "    return frombuffer(mode, size, obj, \"raw\", rawmode, 0, 1)\n",
      "  File \"C:\\Users\\GLC\\anaconda3\\envs\\MSD\\lib\\site-packages\\PIL\\Image.py\", line 3206, in frombuffer\n",
      "    return frombytes(mode, size, data, decoder_name, args)\n",
      "  File \"C:\\Users\\GLC\\anaconda3\\envs\\MSD\\lib\\site-packages\\PIL\\Image.py\", line 3147, in frombytes\n",
      "    im.frombytes(data, decoder_name, decoder_args)\n",
      "  File \"C:\\Users\\GLC\\anaconda3\\envs\\MSD\\lib\\site-packages\\PIL\\Image.py\", line 880, in frombytes\n",
      "    raise ValueError(msg)\n",
      "ValueError: not enough image data\n"
     ]
    },
    {
     "name": "stdout",
     "output_type": "stream",
     "text": [
      "INFO:     127.0.0.1:65466 - \"POST /predict HTTP/1.1\" 500 Internal Server Error\n"
     ]
    },
    {
     "name": "stderr",
     "output_type": "stream",
     "text": [
      "ERROR:    Exception in ASGI application\n",
      "Traceback (most recent call last):\n",
      "  File \"C:\\Users\\GLC\\anaconda3\\envs\\MSD\\lib\\site-packages\\uvicorn\\protocols\\http\\h11_impl.py\", line 408, in run_asgi\n",
      "    result = await app(  # type: ignore[func-returns-value]\n",
      "  File \"C:\\Users\\GLC\\anaconda3\\envs\\MSD\\lib\\site-packages\\uvicorn\\middleware\\proxy_headers.py\", line 84, in __call__\n",
      "    return await self.app(scope, receive, send)\n",
      "  File \"C:\\Users\\GLC\\anaconda3\\envs\\MSD\\lib\\site-packages\\fastapi\\applications.py\", line 1106, in __call__\n",
      "    await super().__call__(scope, receive, send)\n",
      "  File \"C:\\Users\\GLC\\anaconda3\\envs\\MSD\\lib\\site-packages\\starlette\\applications.py\", line 122, in __call__\n",
      "    await self.middleware_stack(scope, receive, send)\n",
      "  File \"C:\\Users\\GLC\\anaconda3\\envs\\MSD\\lib\\site-packages\\starlette\\middleware\\errors.py\", line 184, in __call__\n",
      "    raise exc\n",
      "  File \"C:\\Users\\GLC\\anaconda3\\envs\\MSD\\lib\\site-packages\\starlette\\middleware\\errors.py\", line 162, in __call__\n",
      "    await self.app(scope, receive, _send)\n",
      "  File \"C:\\Users\\GLC\\anaconda3\\envs\\MSD\\lib\\site-packages\\starlette\\middleware\\exceptions.py\", line 79, in __call__\n",
      "    raise exc\n",
      "  File \"C:\\Users\\GLC\\anaconda3\\envs\\MSD\\lib\\site-packages\\starlette\\middleware\\exceptions.py\", line 68, in __call__\n",
      "    await self.app(scope, receive, sender)\n",
      "  File \"C:\\Users\\GLC\\anaconda3\\envs\\MSD\\lib\\site-packages\\fastapi\\middleware\\asyncexitstack.py\", line 20, in __call__\n",
      "    raise e\n",
      "  File \"C:\\Users\\GLC\\anaconda3\\envs\\MSD\\lib\\site-packages\\fastapi\\middleware\\asyncexitstack.py\", line 17, in __call__\n",
      "    await self.app(scope, receive, send)\n",
      "  File \"C:\\Users\\GLC\\anaconda3\\envs\\MSD\\lib\\site-packages\\starlette\\routing.py\", line 718, in __call__\n",
      "    await route.handle(scope, receive, send)\n",
      "  File \"C:\\Users\\GLC\\anaconda3\\envs\\MSD\\lib\\site-packages\\starlette\\routing.py\", line 276, in handle\n",
      "    await self.app(scope, receive, send)\n",
      "  File \"C:\\Users\\GLC\\anaconda3\\envs\\MSD\\lib\\site-packages\\starlette\\routing.py\", line 66, in app\n",
      "    response = await func(request)\n",
      "  File \"C:\\Users\\GLC\\anaconda3\\envs\\MSD\\lib\\site-packages\\fastapi\\routing.py\", line 274, in app\n",
      "    raw_response = await run_endpoint_function(\n",
      "  File \"C:\\Users\\GLC\\anaconda3\\envs\\MSD\\lib\\site-packages\\fastapi\\routing.py\", line 191, in run_endpoint_function\n",
      "    return await dependant.call(**values)\n",
      "  File \"C:\\Users\\GLC\\AppData\\Local\\Temp\\ipykernel_16684\\3429556986.py\", line 22, in get_prediction\n",
      "    image = Image.fromarray(file_bytes , mode = 'RGB')\n",
      "  File \"C:\\Users\\GLC\\anaconda3\\envs\\MSD\\lib\\site-packages\\PIL\\Image.py\", line 3304, in fromarray\n",
      "    return frombuffer(mode, size, obj, \"raw\", rawmode, 0, 1)\n",
      "  File \"C:\\Users\\GLC\\anaconda3\\envs\\MSD\\lib\\site-packages\\PIL\\Image.py\", line 3206, in frombuffer\n",
      "    return frombytes(mode, size, data, decoder_name, args)\n",
      "  File \"C:\\Users\\GLC\\anaconda3\\envs\\MSD\\lib\\site-packages\\PIL\\Image.py\", line 3147, in frombytes\n",
      "    im.frombytes(data, decoder_name, decoder_args)\n",
      "  File \"C:\\Users\\GLC\\anaconda3\\envs\\MSD\\lib\\site-packages\\PIL\\Image.py\", line 880, in frombytes\n",
      "    raise ValueError(msg)\n",
      "ValueError: not enough image data\n"
     ]
    },
    {
     "name": "stdout",
     "output_type": "stream",
     "text": [
      "INFO:     127.0.0.1:65469 - \"POST /predict HTTP/1.1\" 500 Internal Server Error\n"
     ]
    },
    {
     "name": "stderr",
     "output_type": "stream",
     "text": [
      "ERROR:    Exception in ASGI application\n",
      "Traceback (most recent call last):\n",
      "  File \"C:\\Users\\GLC\\anaconda3\\envs\\MSD\\lib\\site-packages\\uvicorn\\protocols\\http\\h11_impl.py\", line 408, in run_asgi\n",
      "    result = await app(  # type: ignore[func-returns-value]\n",
      "  File \"C:\\Users\\GLC\\anaconda3\\envs\\MSD\\lib\\site-packages\\uvicorn\\middleware\\proxy_headers.py\", line 84, in __call__\n",
      "    return await self.app(scope, receive, send)\n",
      "  File \"C:\\Users\\GLC\\anaconda3\\envs\\MSD\\lib\\site-packages\\fastapi\\applications.py\", line 1106, in __call__\n",
      "    await super().__call__(scope, receive, send)\n",
      "  File \"C:\\Users\\GLC\\anaconda3\\envs\\MSD\\lib\\site-packages\\starlette\\applications.py\", line 122, in __call__\n",
      "    await self.middleware_stack(scope, receive, send)\n",
      "  File \"C:\\Users\\GLC\\anaconda3\\envs\\MSD\\lib\\site-packages\\starlette\\middleware\\errors.py\", line 184, in __call__\n",
      "    raise exc\n",
      "  File \"C:\\Users\\GLC\\anaconda3\\envs\\MSD\\lib\\site-packages\\starlette\\middleware\\errors.py\", line 162, in __call__\n",
      "    await self.app(scope, receive, _send)\n",
      "  File \"C:\\Users\\GLC\\anaconda3\\envs\\MSD\\lib\\site-packages\\starlette\\middleware\\exceptions.py\", line 79, in __call__\n",
      "    raise exc\n",
      "  File \"C:\\Users\\GLC\\anaconda3\\envs\\MSD\\lib\\site-packages\\starlette\\middleware\\exceptions.py\", line 68, in __call__\n",
      "    await self.app(scope, receive, sender)\n",
      "  File \"C:\\Users\\GLC\\anaconda3\\envs\\MSD\\lib\\site-packages\\fastapi\\middleware\\asyncexitstack.py\", line 20, in __call__\n",
      "    raise e\n",
      "  File \"C:\\Users\\GLC\\anaconda3\\envs\\MSD\\lib\\site-packages\\fastapi\\middleware\\asyncexitstack.py\", line 17, in __call__\n",
      "    await self.app(scope, receive, send)\n",
      "  File \"C:\\Users\\GLC\\anaconda3\\envs\\MSD\\lib\\site-packages\\starlette\\routing.py\", line 718, in __call__\n",
      "    await route.handle(scope, receive, send)\n",
      "  File \"C:\\Users\\GLC\\anaconda3\\envs\\MSD\\lib\\site-packages\\starlette\\routing.py\", line 276, in handle\n",
      "    await self.app(scope, receive, send)\n",
      "  File \"C:\\Users\\GLC\\anaconda3\\envs\\MSD\\lib\\site-packages\\starlette\\routing.py\", line 66, in app\n",
      "    response = await func(request)\n",
      "  File \"C:\\Users\\GLC\\anaconda3\\envs\\MSD\\lib\\site-packages\\fastapi\\routing.py\", line 274, in app\n",
      "    raw_response = await run_endpoint_function(\n",
      "  File \"C:\\Users\\GLC\\anaconda3\\envs\\MSD\\lib\\site-packages\\fastapi\\routing.py\", line 191, in run_endpoint_function\n",
      "    return await dependant.call(**values)\n",
      "  File \"C:\\Users\\GLC\\AppData\\Local\\Temp\\ipykernel_16684\\3429556986.py\", line 22, in get_prediction\n",
      "    image = Image.fromarray(file_bytes , mode = 'RGB')\n",
      "  File \"C:\\Users\\GLC\\anaconda3\\envs\\MSD\\lib\\site-packages\\PIL\\Image.py\", line 3304, in fromarray\n",
      "    return frombuffer(mode, size, obj, \"raw\", rawmode, 0, 1)\n",
      "  File \"C:\\Users\\GLC\\anaconda3\\envs\\MSD\\lib\\site-packages\\PIL\\Image.py\", line 3206, in frombuffer\n",
      "    return frombytes(mode, size, data, decoder_name, args)\n",
      "  File \"C:\\Users\\GLC\\anaconda3\\envs\\MSD\\lib\\site-packages\\PIL\\Image.py\", line 3147, in frombytes\n",
      "    im.frombytes(data, decoder_name, decoder_args)\n",
      "  File \"C:\\Users\\GLC\\anaconda3\\envs\\MSD\\lib\\site-packages\\PIL\\Image.py\", line 880, in frombytes\n",
      "    raise ValueError(msg)\n",
      "ValueError: not enough image data\n"
     ]
    }
   ],
   "source": [
    "# Allows the server to be run in this interactive environment\n",
    "nest_asyncio.apply()\n",
    "\n",
    "# Host depends on the setup you selected (docker or virtual env)\n",
    "host = \"0.0.0.0\" if os.getenv(\"DOCKER-SETUP\") else \"127.0.0.1\"\n",
    "\n",
    "# Spin up the server!    \n",
    "uvicorn.run(app, host=host, port=8000)"
   ]
  },
  {
   "cell_type": "code",
   "execution_count": null,
   "id": "53f21865",
   "metadata": {},
   "outputs": [],
   "source": []
  }
 ],
 "metadata": {
  "kernelspec": {
   "display_name": "Python 3 (ipykernel)",
   "language": "python",
   "name": "python3"
  },
  "language_info": {
   "codemirror_mode": {
    "name": "ipython",
    "version": 3
   },
   "file_extension": ".py",
   "mimetype": "text/x-python",
   "name": "python",
   "nbconvert_exporter": "python",
   "pygments_lexer": "ipython3",
   "version": "3.9.13"
  }
 },
 "nbformat": 4,
 "nbformat_minor": 5
}
